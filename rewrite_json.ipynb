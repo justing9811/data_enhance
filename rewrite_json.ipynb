{
 "cells": [
  {
   "cell_type": "code",
   "execution_count": 1,
   "metadata": {},
   "outputs": [],
   "source": [
    "import json\n",
    "import os\n",
    "from tqdm import tqdm\n",
    "from glob import glob\n",
    "\n",
    "dic = {}"
   ]
  },
  {
   "cell_type": "code",
   "execution_count": 2,
   "metadata": {},
   "outputs": [],
   "source": [
    "def rewrite_json(input_json_file):\n",
    "    # 修改json中imgpath字段为json文件名\n",
    "    for name in tqdm(glob(os.path.join(input_json_file, '*.json'))):\n",
    "        filename = os.path.splitext(os.path.basename(name))[0]\n",
    "        with open(name) as fo:\n",
    "            ann = json.load(fo)\n",
    "        \n",
    "        ann['imagePath'] = '{}.json'.format(filename)\n",
    "        dic = ann\n",
    "        fo.close()\n",
    "        \n",
    "        with open(name, \"w\") as fo:\n",
    "            json.dump(dic, fo)\n",
    "        fo.close()\n"
   ]
  },
  {
   "cell_type": "code",
   "execution_count": 3,
   "metadata": {},
   "outputs": [
    {
     "name": "stderr",
     "output_type": "stream",
     "text": [
      "100%|█████████████████████████████████████████████████████████████████████████████| 2178/2178 [00:02<00:00, 951.49it/s]\n"
     ]
    }
   ],
   "source": [
    "rewrite_json(\"D:/data/total_background/enhanced_cor_seam_1/\")"
   ]
  },
  {
   "cell_type": "code",
   "execution_count": null,
   "metadata": {},
   "outputs": [],
   "source": []
  },
  {
   "cell_type": "code",
   "execution_count": null,
   "metadata": {},
   "outputs": [],
   "source": []
  }
 ],
 "metadata": {
  "kernelspec": {
   "display_name": "Python 3",
   "language": "python",
   "name": "python3"
  },
  "language_info": {
   "codemirror_mode": {
    "name": "ipython",
    "version": 3
   },
   "file_extension": ".py",
   "mimetype": "text/x-python",
   "name": "python",
   "nbconvert_exporter": "python",
   "pygments_lexer": "ipython3",
   "version": "3.8.3"
  }
 },
 "nbformat": 4,
 "nbformat_minor": 4
}
