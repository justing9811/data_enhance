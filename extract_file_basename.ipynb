{
 "cells": [
  {
   "cell_type": "code",
   "execution_count": 14,
   "id": "concerned-soviet",
   "metadata": {},
   "outputs": [],
   "source": [
    "import os\n",
    "import xml\n",
    "import shutil\n",
    "\n",
    "from tqdm import tqdm\n",
    "from glob import glob"
   ]
  },
  {
   "cell_type": "code",
   "execution_count": 16,
   "id": "regulated-advice",
   "metadata": {},
   "outputs": [
    {
     "name": "stderr",
     "output_type": "stream",
     "text": [
      "100%|██████████████████████████████████████████████████████████████████████████| 3469/3469 [00:00<00:00, 111829.62it/s]\n"
     ]
    }
   ],
   "source": [
    "input_path = \"D:/data/yolov5_data/VOCdevkit/VOC/Annotations/\"\n",
    "save_path = \"D:/data/yolov5_data/VOCdevkit/VOC/ImageSets/Main/trainval.txt\"\n",
    "fopen = open(save_path, 'w')\n",
    "for file in tqdm(glob(os.path.join(input_path, '*.xml'))):\n",
    "    fbasename = os.path.basename(file)[:-4]\n",
    "    fopen.writelines(fbasename)\n",
    "    fopen.writelines('\\n')\n",
    "fopen.close()"
   ]
  },
  {
   "cell_type": "code",
   "execution_count": null,
   "id": "overall-action",
   "metadata": {},
   "outputs": [],
   "source": []
  },
  {
   "cell_type": "code",
   "execution_count": null,
   "id": "altered-vietnam",
   "metadata": {},
   "outputs": [],
   "source": []
  }
 ],
 "metadata": {
  "kernelspec": {
   "display_name": "Python 3",
   "language": "python",
   "name": "python3"
  },
  "language_info": {
   "codemirror_mode": {
    "name": "ipython",
    "version": 3
   },
   "file_extension": ".py",
   "mimetype": "text/x-python",
   "name": "python",
   "nbconvert_exporter": "python",
   "pygments_lexer": "ipython3",
   "version": "3.7.10"
  }
 },
 "nbformat": 4,
 "nbformat_minor": 5
}
