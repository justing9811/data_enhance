{
 "cells": [
  {
   "cell_type": "code",
   "execution_count": 23,
   "metadata": {},
   "outputs": [],
   "source": [
    "import os\n",
    "import shutil"
   ]
  },
  {
   "cell_type": "code",
   "execution_count": 26,
   "metadata": {},
   "outputs": [],
   "source": [
    "def rename(src_path):\n",
    "    count = 0\n",
    "    for root, dirs, files in os.walk(src_path):\n",
    "        for file in files:\n",
    "            olddir = os.path.join(root, file)\n",
    "            filename = os.path.splitext(file)[0]\n",
    "            filetype = os.path.splitext(file)[1]\n",
    "            \n",
    "            if filetype != '.json':  # json/txt/bmp\n",
    "                continue\n",
    "            \n",
    "#             newdir = os.path.join(root, filename + '_' + str(count).zfill(3) + filetype)\n",
    "            newdir = os.path.join(root, '1_' + str(count).zfill(4) + filetype)\n",
    "            os.rename(olddir, newdir)\n",
    "            count += 1"
   ]
  },
  {
   "cell_type": "code",
   "execution_count": 27,
   "metadata": {},
   "outputs": [],
   "source": [
    "rename(\"D:/data/total_background/enhanced_cor_seam/\")"
   ]
  },
  {
   "cell_type": "code",
   "execution_count": 28,
   "metadata": {},
   "outputs": [],
   "source": [
    "import os\n",
    "import shutil\n",
    "from glob import glob"
   ]
  },
  {
   "cell_type": "code",
   "execution_count": 29,
   "metadata": {},
   "outputs": [],
   "source": [
    "def merge(src_path, dest_path):\n",
    "    for name in glob(os.path.join(src_path, '*', '*')): # 'path/*/*'\n",
    "        shutil.copyfile(name, os.path.join(dest_path, os.path.basename(name)))"
   ]
  },
  {
   "cell_type": "code",
   "execution_count": 30,
   "metadata": {},
   "outputs": [],
   "source": [
    "merge(\"D:/data/total_background/enhanced_cor_seam/\", \"D:/data/total_background/enhanced_cor_seam_1/\")"
   ]
  },
  {
   "cell_type": "code",
   "execution_count": 25,
   "metadata": {},
   "outputs": [],
   "source": [
    "def rename_withdraw(src_path):\n",
    "    count = 0\n",
    "    for root, dirs, files in os.walk(src_path):\n",
    "        for file in files:\n",
    "            olddir = os.path.join(root, file)\n",
    "            filename = os.path.splitext(file)[0]\n",
    "            filetype = os.path.splitext(file)[1]\n",
    "            \n",
    "            if filetype != '.txt':  # json/txt/bmp\n",
    "                continue\n",
    "            \n",
    "            newdir = os.path.join(root, '{}.txt'.format(filename[:-5]))\n",
    "            os.rename(olddir, newdir)\n",
    "            count += 1"
   ]
  },
  {
   "cell_type": "code",
   "execution_count": 26,
   "metadata": {},
   "outputs": [],
   "source": [
    "rename_withdraw(\"D:/data/enhanced_cor_939/temp\")"
   ]
  },
  {
   "cell_type": "code",
   "execution_count": null,
   "metadata": {},
   "outputs": [],
   "source": []
  }
 ],
 "metadata": {
  "kernelspec": {
   "display_name": "Python 3",
   "language": "python",
   "name": "python3"
  },
  "language_info": {
   "codemirror_mode": {
    "name": "ipython",
    "version": 3
   },
   "file_extension": ".py",
   "mimetype": "text/x-python",
   "name": "python",
   "nbconvert_exporter": "python",
   "pygments_lexer": "ipython3",
   "version": "3.8.3"
  }
 },
 "nbformat": 4,
 "nbformat_minor": 4
}
