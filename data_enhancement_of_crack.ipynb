{
 "cells": [
  {
   "cell_type": "code",
   "execution_count": 7,
   "metadata": {},
   "outputs": [],
   "source": [
    "import json\n",
    "import os\n",
    "import shutil\n",
    "import random\n",
    "import math\n",
    "import numpy as np\n",
    "\n",
    "from glob import glob\n",
    "from PIL import Image, ImageDraw\n",
    "from tqdm import tqdm"
   ]
  },
  {
   "cell_type": "code",
   "execution_count": 8,
   "metadata": {},
   "outputs": [],
   "source": [
    "def oversampling_on_crack(src_path, dest_path):\n",
    "    for name in tqdm(glob(os.path.join(src_path, '*.json'))):\n",
    "        with open(name) as fo:\n",
    "            ann = json.load(fo)\n",
    "        \n",
    "        all_crack = []\n",
    "        \n",
    "        if len([shape for shape in ann['shapes'] if shape['label'] == 'repair']) != 0:\n",
    "            continue    \n",
    "        if len([shape for shape in ann['shapes'] if shape['label'] == 'crack']) < 1:\n",
    "            continue\n",
    "        \n",
    "        crack = []\n",
    "        for shape in ann['shapes']:\n",
    "            # 存放crack标签的points   \n",
    "            if shape['label'] == 'crack':\n",
    "                crack_xy = [tuple(p) for p in shape['points']]\n",
    "                crack.append(crack_xy)\n",
    "                \n",
    "        for each_crack in crack:\n",
    "            # crack_points_4：crack外接框的四个顶点坐标\n",
    "            crack_points_4 = crack_external_frame(each_crack)\n",
    "            \n",
    "            # 默认左上角为支撑点\n",
    "            domination_point = crack_points_4[0]\n",
    "    \n",
    "            # 读取该json文件对应的bmp文件，得到其mask，再将mask截为crack外接框大小\n",
    "            image = Image.open('{}.bmp'.format(name[:-5]))\n",
    "\n",
    "            mask = Image.new('1', image.size)\n",
    "            mask_draw = ImageDraw.Draw(mask)\n",
    "            mask_draw.polygon(crack[0], fill=1)\n",
    "            \n",
    "            cut_box = (crack_points_4[0] + crack_points_4[1])\n",
    "\n",
    "            cut_original_image = image.crop(cut_box)\n",
    "            cut_mask_image = mask.crop(cut_box)\n",
    "            \n",
    "            # 归零\n",
    "            left, top = crack_points_4[0]\n",
    "            domination_point = (domination_point[0] - left, domination_point[1] - top)\n",
    "            each_crack = [(x - left, y - top) for x, y in each_crack]\n",
    "\n",
    "            all_crack.append((cut_original_image, cut_mask_image, domination_point, crack))\n",
    "\n",
    "            image = Image.open('{}.bmp'.format(name[:-5]))\n",
    "            images_ann = (image, mask, ann)\n",
    "\n",
    "        copy_image(src_path, dest_path, images_ann, all_crack)"
   ]
  },
  {
   "cell_type": "code",
   "execution_count": 9,
   "metadata": {},
   "outputs": [],
   "source": [
    "def crack_external_frame(points_crack):\n",
    "    all_x = [x for x, y in points_crack]\n",
    "    all_y = [y for x, y in points_crack]\n",
    "    \n",
    "    max_x = max(all_x)\n",
    "    min_x = min(all_x)\n",
    "    max_y = max(all_y)\n",
    "    min_y = min(all_y)\n",
    "    \n",
    "    external_frame_points = ((min_x, min_y), \n",
    "                             (max_x, max_y))\n",
    "    \n",
    "    return external_frame_points # 中心点和外接框的四角"
   ]
  },
  {
   "cell_type": "code",
   "execution_count": 10,
   "metadata": {},
   "outputs": [],
   "source": [
    "def copy_image(src_path, dest_path, images_ann, all_crack):\n",
    "#     print(all_crack)\n",
    "    im, ori_mask, ann = images_ann\n",
    "    for pic_and_mask in all_crack:\n",
    "        pic, \\\n",
    "        mask, \\\n",
    "        domination_point, \\\n",
    "        points_crack = pic_and_mask\n",
    "        \n",
    "        if ((pic.width ** 2 + pic.height ** 2) ** 1/2 ) < 200:\n",
    "            continue\n",
    "            \n",
    "        time = 5\n",
    "        while(time):\n",
    "            rotate_angel = random.randrange(0,360)\n",
    "\n",
    "            pic_processed = pic.rotate(rotate_angel, expand = True)\n",
    "            mask_processed = mask.rotate(rotate_angel, expand = True)\n",
    "\n",
    "#             print(range_max_x)\n",
    "            paste_x = random.randrange(-(pic_processed.width // 2), im.width)\n",
    "            paste_y = random.randrange(-(pic_processed.height // 2), im.height)\n",
    "\n",
    "            key_point = (paste_x, paste_y)\n",
    "\n",
    "#             print(key_point)\n",
    "#             display(mask)\n",
    "            im.paste(pic_processed, key_point, mask = mask_processed)\n",
    "            ori_mask.paste(mask_processed, key_point, mask = mask_processed)\n",
    "#             display(ori_mask)\n",
    "            time -= 1\n",
    "\n",
    "            # 保存图片和对应的json文件\n",
    "        save_image_mask(src_path, dest_path, im, ori_mask, ann)"
   ]
  },
  {
   "cell_type": "code",
   "execution_count": 11,
   "metadata": {},
   "outputs": [],
   "source": [
    "def save_image_mask(src_path, dest_path, image, mask, ann):\n",
    "    image.save(os.path.join(dest_path, 'crack_f2/', ann['imagePath']))\n",
    "    \n",
    "    mask_draw = ImageDraw.Draw(mask)\n",
    "\n",
    "    for shape in ann['shapes']:\n",
    "        if shape['label'] != 'crack' or shape['shape_type'] != 'polygon':\n",
    "            continue\n",
    "        mask_draw.polygon([tuple(p) for p in shape['points']], fill=1)\n",
    "    mask.save(os.path.join(dest_path, 'crack_f2/','{}.png'.format(ann['imagePath'][:-4] )))\n",
    "    "
   ]
  },
  {
   "cell_type": "code",
   "execution_count": 12,
   "metadata": {},
   "outputs": [
    {
     "name": "stderr",
     "output_type": "stream",
     "text": [
      "100%|██████████████████████████████████████████████████████████████████████████████| 2769/2769 [03:52<00:00, 11.91it/s]\n"
     ]
    }
   ],
   "source": [
    "oversampling_on_crack(\"C:/Users/JST/APD202004v2/train/\", \"C:/Users/JST/APD202004v2/\")"
   ]
  },
  {
   "cell_type": "code",
   "execution_count": null,
   "metadata": {},
   "outputs": [],
   "source": []
  },
  {
   "cell_type": "code",
   "execution_count": null,
   "metadata": {},
   "outputs": [],
   "source": []
  },
  {
   "cell_type": "code",
   "execution_count": null,
   "metadata": {},
   "outputs": [],
   "source": []
  }
 ],
 "metadata": {
  "kernelspec": {
   "display_name": "Python 3",
   "language": "python",
   "name": "python3"
  },
  "language_info": {
   "codemirror_mode": {
    "name": "ipython",
    "version": 3
   },
   "file_extension": ".py",
   "mimetype": "text/x-python",
   "name": "python",
   "nbconvert_exporter": "python",
   "pygments_lexer": "ipython3",
   "version": "3.8.3"
  }
 },
 "nbformat": 4,
 "nbformat_minor": 4
}
