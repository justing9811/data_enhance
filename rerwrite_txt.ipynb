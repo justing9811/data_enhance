{
 "cells": [
  {
   "cell_type": "code",
   "execution_count": 120,
   "id": "advanced-basic",
   "metadata": {},
   "outputs": [],
   "source": [
    "import os\n",
    "\n",
    "from tqdm import tqdm\n",
    "from glob import glob\n",
    "from xml.dom.minidom import Document"
   ]
  },
  {
   "cell_type": "code",
   "execution_count": 121,
   "id": "reverse-syntax",
   "metadata": {},
   "outputs": [],
   "source": [
    "# dic = { 'crack' : '1', 'light' : '2', 'slab' : '3', 'track' : '4', 'cornerfracture' :'5', \n",
    "#        'repair' : '6', 'patch' :'7', 'seambroken' : '8', 'hole' : '9', 'whitespot' :'10'}"
   ]
  },
  {
   "cell_type": "code",
   "execution_count": 122,
   "id": "north-jacket",
   "metadata": {},
   "outputs": [],
   "source": [
    "def select_txt(file_path, save_path):\n",
    "    # 筛选两类病害数据\n",
    "    for file in tqdm(glob(os.path.join(file_path, '*.txt'))):\n",
    "        fopen = open(file, 'r')\n",
    "        for line in fopen.readlines():\n",
    "            with open(os.path.join(save_path, os.path.basename(file)), 'a') as save_file:\n",
    "                if int(line[0]) == 5:\n",
    "#                     print(line[0], type(line[0]))\n",
    "#                     line[0].replace('5', '2')\n",
    "                    save_file.write('2' + line[1:])\n",
    "                if int(line[0]) == 8:\n",
    "#                     line[0].replace('8', '1')\n",
    "                    save_file.write('1' + line[1:])"
   ]
  },
  {
   "cell_type": "code",
   "execution_count": 123,
   "id": "republican-importance",
   "metadata": {},
   "outputs": [
    {
     "name": "stderr",
     "output_type": "stream",
     "text": [
      "100%|██████████████████████████████████████████████████████████████████████████| 11721/11721 [00:10<00:00, 1168.36it/s]\n"
     ]
    }
   ],
   "source": [
    "select_txt(\"D:/data/hy/hy_dataset/labels/train/\", \"D:/data/hy/hy_dataset/labels/rewrite_selected/temp/\")"
   ]
  },
  {
   "cell_type": "code",
   "execution_count": null,
   "id": "verbal-limitation",
   "metadata": {},
   "outputs": [],
   "source": []
  }
 ],
 "metadata": {
  "kernelspec": {
   "display_name": "Python 3",
   "language": "python",
   "name": "python3"
  },
  "language_info": {
   "codemirror_mode": {
    "name": "ipython",
    "version": 3
   },
   "file_extension": ".py",
   "mimetype": "text/x-python",
   "name": "python",
   "nbconvert_exporter": "python",
   "pygments_lexer": "ipython3",
   "version": "3.7.10"
  }
 },
 "nbformat": 4,
 "nbformat_minor": 5
}
