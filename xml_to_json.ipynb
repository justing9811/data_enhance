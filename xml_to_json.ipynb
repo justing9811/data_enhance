{
 "cells": [
  {
   "cell_type": "code",
   "execution_count": 149,
   "metadata": {},
   "outputs": [],
   "source": [
    "import os\n",
    "import json\n",
    "import xml.dom.minidom\n",
    "\n",
    "from tqdm import tqdm\n",
    "from glob import glob\n",
    "from xml.dom.minidom import parse"
   ]
  },
  {
   "cell_type": "code",
   "execution_count": 150,
   "metadata": {},
   "outputs": [],
   "source": [
    "def xml_to_json(xml_path, json_path):\n",
    "    \n",
    "    \"\"\"\n",
    "    imageHeight:\n",
    "    imageWidth:\n",
    "    points:所有xml中的slab坐标\n",
    "    imagePath:文件名称\n",
    "    \n",
    "    \"\"\"\n",
    "    for name in tqdm(glob(os.path.join(xml_path, '*.xml'))):\n",
    "        points = []\n",
    "        DOMTree = xml.dom.minidom.parse(name)\n",
    "        collection = DOMTree.documentElement\n",
    "        imagePath = collection.getElementsByTagName(\"filename\")[0].childNodes[0].data\n",
    "        \n",
    "        sizes = collection.getElementsByTagName(\"size\")\n",
    "        for size in sizes:\n",
    "            imageHeight = int(size.getElementsByTagName(\"height\")[0].childNodes[0].data)\n",
    "            imageWidth = int(size.getElementsByTagName(\"width\")[0].childNodes[0].data)\n",
    "        \n",
    "        objs = collection.getElementsByTagName(\"object\")\n",
    "        for obj in objs:\n",
    "            name = obj.getElementsByTagName(\"name\")[0].childNodes[0].data\n",
    "            bndboxs = obj.getElementsByTagName(\"bndbox\")\n",
    "            for bndboxs in bndboxs:\n",
    "                xmin = int(bndboxs.getElementsByTagName(\"xmin\")[0].childNodes[0].data)\n",
    "                ymin = int(bndboxs.getElementsByTagName(\"ymin\")[0].childNodes[0].data)\n",
    "                xmax = int(bndboxs.getElementsByTagName(\"xmax\")[0].childNodes[0].data) \n",
    "                ymax = int(bndboxs.getElementsByTagName(\"ymax\")[0].childNodes[0].data)\n",
    "            points.append((name,[[xmin, ymin],[xmax, ymin],[xmax, ymax],[xmin, ymax]]))    \n",
    "\n",
    "        new_json(json_path, imagePath, imageHeight, imageWidth)\n",
    "        \n",
    "        add_info(json_path, imagePath, points)\n",
    "        \n",
    "\n",
    "\n",
    "    \n",
    "       "
   ]
  },
  {
   "cell_type": "code",
   "execution_count": 166,
   "metadata": {},
   "outputs": [],
   "source": [
    "def new_json(path, imagePath, imageHeight, imageWidth):\n",
    "    json_info = {\"version\": \"3.16.7\", \n",
    "                     \"flags\": {}, \n",
    "                     \"shapes\": [],\n",
    "                     \"lineColor\": [0, 255, 0, 128],\n",
    "                     \"fillColor\": [255, 0, 0, 128], \n",
    "                     \"imagePath\": \"{}\".format(imagePath),\n",
    "                     \"imageHeight\": imageHeight, \n",
    "                     \"imageWidth\": imageWidth\n",
    "                    }   \n",
    "    with open(os.path.join(path, '{}.json'.format(imagePath[:-4])), 'w') as f: \n",
    "        json.dump(json_info,f)"
   ]
  },
  {
   "cell_type": "code",
   "execution_count": 185,
   "metadata": {},
   "outputs": [],
   "source": [
    "def add_info(path, imagePath, points):\n",
    "    name = os.path.join(path, '{}.json'.format(imagePath[:-4]))\n",
    "    with open(name, 'r') as f:\n",
    "        ann = json.load(f)\n",
    "    for point in points:\n",
    "        json_info = {\"label\": \"{}\".format(point[0]),\n",
    "                          \"line_color\": None,\n",
    "                          \"fill_color\": None,\n",
    "                          \"points\": point[1] ,\n",
    "                          \"shape_type\": \"polygon\",\n",
    "                          \"flags\": {}\n",
    "                        }   \n",
    "        ann[\"shapes\"].append(json_info)\n",
    "    \n",
    "    with open(name, 'w') as f:\n",
    "        json.dump(ann, f)"
   ]
  },
  {
   "cell_type": "code",
   "execution_count": 186,
   "metadata": {},
   "outputs": [
    {
     "name": "stderr",
     "output_type": "stream",
     "text": [
      "100%|███████████████████████████████████████████████████████████████████████████████| 778/778 [00:00<00:00, 804.07it/s]\n"
     ]
    }
   ],
   "source": [
    "xml_to_json(\"D:/data/total_background/total_xml/\", \"D:/data/total_background/total_json/\")"
   ]
  },
  {
   "cell_type": "code",
   "execution_count": null,
   "metadata": {},
   "outputs": [],
   "source": []
  },
  {
   "cell_type": "code",
   "execution_count": null,
   "metadata": {},
   "outputs": [],
   "source": []
  }
 ],
 "metadata": {
  "kernelspec": {
   "display_name": "Python 3",
   "language": "python",
   "name": "python3"
  },
  "language_info": {
   "codemirror_mode": {
    "name": "ipython",
    "version": 3
   },
   "file_extension": ".py",
   "mimetype": "text/x-python",
   "name": "python",
   "nbconvert_exporter": "python",
   "pygments_lexer": "ipython3",
   "version": "3.8.3"
  }
 },
 "nbformat": 4,
 "nbformat_minor": 4
}
