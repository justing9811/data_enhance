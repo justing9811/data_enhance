{
 "cells": [
  {
   "cell_type": "code",
   "execution_count": 29,
   "metadata": {},
   "outputs": [],
   "source": [
    "import os\n",
    "import json\n",
    "from tqdm import tqdm\n",
    "from glob import glob"
   ]
  },
  {
   "cell_type": "code",
   "execution_count": 5,
   "metadata": {},
   "outputs": [],
   "source": [
    "def del_json_or_bmp(src_path):\n",
    "    # 删除文件夹下无bmp与之对应的json\n",
    "    dic = {}\n",
    "    image_names = {os.path.basename(p)[:-4]\n",
    "                   for p in glob(os.path.join(src_path, '*.bmp'))}\n",
    "    label_names = {os.path.basename(p)[:-5]\n",
    "                   for p in glob(os.path.join(src_path, '*.json'))}\n",
    "    \n",
    "    dic = image_names ^ label_names\n",
    "    for name in dic:\n",
    "        for file in glob(os.path.join(src_path, '*.json')): # json/bmp\n",
    "            if os.path.basename(file)[:-5] == name:   # 5/4\n",
    "                os.remove(file)\n"
   ]
  },
  {
   "cell_type": "code",
   "execution_count": 6,
   "metadata": {},
   "outputs": [],
   "source": [
    "del_json_or_bmp(\"D:/data/total_background_enhanced/enhanced_cor_seam\")"
   ]
  },
  {
   "cell_type": "code",
   "execution_count": 30,
   "metadata": {},
   "outputs": [],
   "source": [
    "def select_bmp(src_path, dest_path):\n",
    "    # 删除两个文件夹下文件前缀名的非共同子集\n",
    "    dic = {}\n",
    "    names1 = {os.path.basename(p)[:-4]\n",
    "                   for p in glob(os.path.join(src_path, '*.bmp'))}\n",
    "    names2 = {os.path.basename(p)[:-4]\n",
    "                   for p in glob(os.path.join(dest_path, '*.txt'))}\n",
    "    \n",
    "    dic = names1 ^ names2\n",
    "    for name in dic:\n",
    "        for file in glob(os.path.join(dest_path, '*.txt')):\n",
    "            if os.path.basename(file)[:-4] == name:\n",
    "                print(file)\n",
    "#                 os.remove(file)\n"
   ]
  },
  {
   "cell_type": "code",
   "execution_count": 31,
   "metadata": {},
   "outputs": [],
   "source": [
    "select_bmp(\"D:/data/yolov5_data/dataset_2000+1000/images/train/\", \"D:/data/yolov5_data/new_data_6958/labels/train/\")"
   ]
  },
  {
   "cell_type": "code",
   "execution_count": null,
   "metadata": {},
   "outputs": [],
   "source": [
    "def del_common_file(father, son):\n",
    "    # 删除两个文件夹下的共同子文件 json/txt/bmp\n",
    "    dic = {}\n",
    "    names1 = {os.path.basename(p)[:-4]\n",
    "                   for p in glob(os.path.join(father, '*.bmp'))}\n",
    "    names2 = {os.path.basename(p)[:-4]\n",
    "                   for p in glob(os.path.join(son, '*.bmp'))}\n",
    "    \n",
    "    dic = names1 & names2\n",
    "    \n",
    "    for name in dic:\n",
    "        for file in glob(os.path.join(father, '*.bmp')):\n",
    "            if os.path.basename(file)[:-4] == name:\n",
    "                os.remove(file)"
   ]
  },
  {
   "cell_type": "code",
   "execution_count": 4,
   "metadata": {},
   "outputs": [],
   "source": [
    "del_common_file(\"D:/data/Garbage_data_enhance/images/train\", \"D:/data/enhanced_cor_2105/image_2105\")"
   ]
  },
  {
   "cell_type": "code",
   "execution_count": 18,
   "metadata": {},
   "outputs": [],
   "source": [
    "import shutil\n",
    "import os\n",
    "import json\n",
    "from glob import glob"
   ]
  },
  {
   "cell_type": "code",
   "execution_count": 19,
   "metadata": {},
   "outputs": [],
   "source": [
    "def select_json(src_path, dest_path, save_path):\n",
    "    # 根据src_path下的bmp筛选dest_path下的json,copy到src_path下\n",
    "    dic = {}\n",
    "    names1 = {os.path.basename(p)[:-4]\n",
    "                   for p in glob(os.path.join(src_path, '*.bmp'))}\n",
    "    names2 = {os.path.basename(p)[:-5]\n",
    "                   for p in glob(os.path.join(dest_path, '*.json'))}\n",
    "    \n",
    "    dic = names1 & names2\n",
    "    \n",
    "    for name in dic:\n",
    "        for file in glob(os.path.join(dest_path, '*.json')):\n",
    "            if os.path.basename(file)[:-5] == name:\n",
    "                shutil.copy(file, save_path)"
   ]
  },
  {
   "cell_type": "code",
   "execution_count": 20,
   "metadata": {},
   "outputs": [],
   "source": [
    "select_json(\"D:/data/yolov5_data/APD04_selected_ori/images/val/\", \"D:/data/APD202004v2/val/\", \"D:/data/yolov5_data/APD04_selected_ori/labels/val_json/\")"
   ]
  },
  {
   "cell_type": "code",
   "execution_count": null,
   "metadata": {},
   "outputs": [],
   "source": [
    "val"
   ]
  },
  {
   "cell_type": "code",
   "execution_count": 21,
   "metadata": {},
   "outputs": [],
   "source": [
    "import os\n",
    "import shutil\n",
    "from glob import glob"
   ]
  },
  {
   "cell_type": "code",
   "execution_count": 22,
   "metadata": {},
   "outputs": [],
   "source": [
    "def select_bmp(txt_path, bmp_path, save_path):\n",
    "    # 根据src_path下的txt查找dest_path下的bmp，copy到save_path下\n",
    "    dic = {}\n",
    "    txt_name = {os.path.basename(p)[:-4]\n",
    "                       for p in glob(os.path.join(txt_path, '*.txt')) }\n",
    "    bmp_name = {os.path.basename(p)[:-4]\n",
    "                       for p in glob(os.path.join(bmp_path, '*.bmp'))}\n",
    "    dic = txt_name & bmp_name\n",
    "    for name in dic:\n",
    "        for file in glob(os.path.join(bmp_path, '*.bmp')):\n",
    "            if os.path.basename(file)[:-4] == name:\n",
    "                shutil.copy(file, save_path)"
   ]
  },
  {
   "cell_type": "code",
   "execution_count": 24,
   "metadata": {},
   "outputs": [],
   "source": [
    "select_bmp(\"D:/data/hy/hy_dataset/labels/rewrite_selected/two_kinds_val\", \n",
    "           \"D:/data/hy/hy_dataset/images/val\", \n",
    "           \"D:/data/hy/hy_dataset/images/rewrite_selected/two_kinds_val\")"
   ]
  },
  {
   "cell_type": "code",
   "execution_count": null,
   "metadata": {},
   "outputs": [],
   "source": []
  }
 ],
 "metadata": {
  "kernelspec": {
   "display_name": "Python 3",
   "language": "python",
   "name": "python3"
  },
  "language_info": {
   "codemirror_mode": {
    "name": "ipython",
    "version": 3
   },
   "file_extension": ".py",
   "mimetype": "text/x-python",
   "name": "python",
   "nbconvert_exporter": "python",
   "pygments_lexer": "ipython3",
   "version": "3.7.10"
  }
 },
 "nbformat": 4,
 "nbformat_minor": 4
}
