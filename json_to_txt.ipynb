{
 "cells": [
  {
   "cell_type": "code",
   "execution_count": 4,
   "metadata": {},
   "outputs": [],
   "source": [
    "import json\n",
    "import os\n",
    "import math\n",
    "from tqdm import tqdm\n",
    "from glob import glob\n",
    "\n",
    "dic = { 'seambroken': '1', 'cornerfracture': '2'}\n",
    "# dic = { 'crack' : '1', 'light' : '2', 'slab' : '3', 'track' : '4', 'cornerfracture' :'5', \n",
    "#        'repair' : '6', 'patch' :'7', 'seambroken' : '8', 'hole' : '9', 'whitespot' :'10'}"
   ]
  },
  {
   "cell_type": "code",
   "execution_count": 5,
   "metadata": {},
   "outputs": [],
   "source": [
    "def json_to_txt(src_path, dest_path):\n",
    "    for name in tqdm(glob(os.path.join(src_path, '*.json'))):\n",
    "        with open(name) as fo:\n",
    "            ann = json.load(fo)\n",
    "            \n",
    "        img_width = ann['imageWidth']\n",
    "        img_height = ann['imageHeight']\n",
    "        img_path = ann['imagePath']\n",
    "        for shape in ann['shapes']:\n",
    "            file_path = os.path.join(dest_path,'{}.txt'.format(img_path[:-5]))\n",
    "            for key in dic.keys():\n",
    "                if shape['label'] == key:\n",
    "\n",
    "                    slab_x = [x for x, y in shape['points']]\n",
    "                    slab_y = [y for x, y in shape['points']]\n",
    "\n",
    "                    max_x = max(slab_x)\n",
    "                    min_x = min(slab_x)\n",
    "                    max_y = max(slab_y)\n",
    "                    min_y = min(slab_y)\n",
    "\n",
    "                    center_x = (min_x + max_x)/2\n",
    "                    center_y = (min_y + max_y)/2\n",
    "\n",
    "                    x = center_x / img_width\n",
    "                    y = center_y / img_height\n",
    "                    w = (max_x - min_x) / img_width\n",
    "                    h = (max_y - min_y) / img_height\n",
    "\n",
    "\n",
    "                    file = open(file_path,'a')\n",
    "                    file.write(dic[key] + \" \" + str(x) + \" \" + str(y) + \" \" +str(w) + \" \" + str(h) + \"\\n\")\n",
    "                    file.close()\n"
   ]
  },
  {
   "cell_type": "code",
   "execution_count": 6,
   "metadata": {},
   "outputs": [
    {
     "name": "stderr",
     "output_type": "stream",
     "text": [
      "100%|████████████████████████████████████████████████████████████████████████████| 2000/2000 [00:01<00:00, 1725.24it/s]\n"
     ]
    }
   ],
   "source": [
    "json_to_txt(\"D:/data/Garbage_data_enhance_2000/labels/train/json\", \"D:/data/Garbage_data_enhance_2000/labels/train/txt\")"
   ]
  },
  {
   "cell_type": "code",
   "execution_count": null,
   "metadata": {},
   "outputs": [],
   "source": []
  },
  {
   "cell_type": "code",
   "execution_count": 11,
   "metadata": {},
   "outputs": [],
   "source": [
    "def new_empty_txt(src_path, dest_path):\n",
    "    # 新建txt文件，命名同json内容中‘imagePath’字段\n",
    "    for name in tqdm(glob(os.path.join(src_path, '*.json'))):\n",
    "        with open(name) as fo:\n",
    "            ann = json.load(fo)\n",
    "\n",
    "        img_path = ann['imagePath']\n",
    "        for shape in ann['shapes']:\n",
    "            file_path = os.path.join(dest_path,'{}.txt'.format(img_path[:-5]))\n",
    "            file = open(file_path,'a')\n",
    "            file.close()"
   ]
  },
  {
   "cell_type": "code",
   "execution_count": 12,
   "metadata": {},
   "outputs": [
    {
     "name": "stderr",
     "output_type": "stream",
     "text": [
      "100%|████████████████████████████████████████████████████████████████████████████████| 76/76 [00:00<00:00, 1373.42it/s]\n"
     ]
    }
   ],
   "source": [
    "new_empty_txt(\"D:/data/负样本/json_91\", \"D:/data/负样本/txt_91\")"
   ]
  },
  {
   "cell_type": "code",
   "execution_count": null,
   "metadata": {},
   "outputs": [],
   "source": []
  }
 ],
 "metadata": {
  "kernelspec": {
   "display_name": "Python 3",
   "language": "python",
   "name": "python3"
  },
  "language_info": {
   "codemirror_mode": {
    "name": "ipython",
    "version": 3
   },
   "file_extension": ".py",
   "mimetype": "text/x-python",
   "name": "python",
   "nbconvert_exporter": "python",
   "pygments_lexer": "ipython3",
   "version": "3.7.10"
  }
 },
 "nbformat": 4,
 "nbformat_minor": 4
}
