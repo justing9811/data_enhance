{
 "cells": [
  {
   "cell_type": "code",
   "execution_count": 9,
   "metadata": {},
   "outputs": [],
   "source": [
    "import os\n",
    "import xml.dom.minidom\n",
    "\n",
    "from tqdm import tqdm\n",
    "from glob import glob\n",
    "from xml.dom.minidom import parse\n",
    "dic = { 'crack' : '1', 'light' : '2', 'slab' : '3', 'track' : '4', 'cornerfracture' :'5', \n",
    "       'repair' : '6', 'patch' :'7', 'seambroken' : '8', 'hole' : '9', 'whitespot' :'10'}\n",
    "# dic = { 'background' : '0', 'seambroken' : '1', 'cornerfracture' : '2'}"
   ]
  },
  {
   "cell_type": "code",
   "execution_count": 10,
   "metadata": {},
   "outputs": [],
   "source": [
    "def xml_to_txt(src_path, dest_path):\n",
    "     for name in tqdm(glob(os.path.join(src_path, '*.xml'))):\n",
    "        points = []\n",
    "        DOMTree = xml.dom.minidom.parse(name)\n",
    "        collection = DOMTree.documentElement\n",
    "        imagePath = collection.getElementsByTagName(\"filename\")[0].childNodes[0].data\n",
    "        \n",
    "        file_path = os.path.join(dest_path,'{}.txt'.format(imagePath[:-4]))\n",
    "        \n",
    "        sizes = collection.getElementsByTagName(\"size\")\n",
    "        for size in sizes:\n",
    "            imageHeight = int(size.getElementsByTagName(\"height\")[0].childNodes[0].data)\n",
    "            imageWidth = int(size.getElementsByTagName(\"width\")[0].childNodes[0].data)\n",
    "        \n",
    "        objs = collection.getElementsByTagName(\"object\")\n",
    "        for obj in objs:\n",
    "            name = obj.getElementsByTagName(\"name\")[0].childNodes[0].data\n",
    "            num = name_to_num(name)\n",
    "            bndboxs = obj.getElementsByTagName(\"bndbox\")\n",
    "            for bndboxs in bndboxs:\n",
    "                xmin = int(bndboxs.getElementsByTagName(\"xmin\")[0].childNodes[0].data)\n",
    "                ymin = int(bndboxs.getElementsByTagName(\"ymin\")[0].childNodes[0].data)\n",
    "                xmax = int(bndboxs.getElementsByTagName(\"xmax\")[0].childNodes[0].data) \n",
    "                ymax = int(bndboxs.getElementsByTagName(\"ymax\")[0].childNodes[0].data)\n",
    "                \n",
    "                center_x = (xmin + xmax) / 2\n",
    "                center_y = (ymin + ymax) / 2\n",
    "                \n",
    "                x = center_x / imageWidth\n",
    "                y = center_y / imageHeight\n",
    "                w = (xmax - xmin) / imageWidth\n",
    "                h = (ymax - ymin) / imageHeight\n",
    "                \n",
    "                file = open(file_path,'a')\n",
    "                file.write(num + \" \" + str(x) + \" \" + str(y) + \" \" +str(w) + \" \" + str(h) + \"\\n\")\n",
    "                file.close()\n",
    "#             points.append((num, x, y, w, h))    \n",
    "\n",
    "#         new_json(json_path, imagePath, imageHeight, imageWidth)\n",
    "        \n",
    "#         add_info(json_path, imagePath, points)"
   ]
  },
  {
   "cell_type": "code",
   "execution_count": 11,
   "metadata": {},
   "outputs": [],
   "source": [
    "def name_to_num(name):\n",
    "    \"\"\"\n",
    "    crack,light,slab,track,cornerfracture,repair,patch,seambroken,hole,whitespot\n",
    "    \"\"\"\n",
    "    global num\n",
    "    for key in dic.keys():\n",
    "        if name == key:\n",
    "            num = dic[key]\n",
    "    return num"
   ]
  },
  {
   "cell_type": "code",
   "execution_count": 12,
   "metadata": {},
   "outputs": [
    {
     "name": "stderr",
     "output_type": "stream",
     "text": [
      "100%|███████████████████████████████████████████████████████████████████████████| 13817/13817 [00:24<00:00, 554.27it/s]\n"
     ]
    }
   ],
   "source": [
    "xml_to_txt(\"D:/data/hy/VOC12_13/VOC2007/xml/\", \"D:/data/hy/VOC12_13/VOC2007/txt\")"
   ]
  },
  {
   "cell_type": "code",
   "execution_count": null,
   "metadata": {},
   "outputs": [],
   "source": []
  },
  {
   "cell_type": "code",
   "execution_count": null,
   "metadata": {},
   "outputs": [],
   "source": []
  }
 ],
 "metadata": {
  "kernelspec": {
   "display_name": "Python 3",
   "language": "python",
   "name": "python3"
  },
  "language_info": {
   "codemirror_mode": {
    "name": "ipython",
    "version": 3
   },
   "file_extension": ".py",
   "mimetype": "text/x-python",
   "name": "python",
   "nbconvert_exporter": "python",
   "pygments_lexer": "ipython3",
   "version": "3.7.10"
  }
 },
 "nbformat": 4,
 "nbformat_minor": 4
}
