{
 "cells": [
  {
   "cell_type": "code",
   "execution_count": 68,
   "metadata": {},
   "outputs": [],
   "source": [
    "import os\n",
    "import json\n",
    "\n",
    "from tqdm import tqdm\n",
    "from glob import glob"
   ]
  },
  {
   "cell_type": "code",
   "execution_count": 69,
   "metadata": {},
   "outputs": [],
   "source": [
    "def cal(path):\n",
    "    \"\"\"\n",
    "      \"D:/data/enhanced/enhanced_cor_3005/json_3005\", \n",
    "      \"D:/data/enhanced/enhanced_seam_3008/json_3008\", \n",
    "      \"D:/data/enhanced/total_background_enhanced/enhanced_cor_seam_1000/json\" \n",
    "    \"\"\"\n",
    "    slab_nums1 = 0\n",
    "    crack_nums1 = 0\n",
    "    cor_nums1 = 0\n",
    "    seam_nums1 = 0\n",
    "    patch_nums1 = 0\n",
    "    repair_nums1 = 0\n",
    "    light_nums1 = 0\n",
    "    for name in tqdm(glob(os.path.join(path, '*.json'))):\n",
    "        with open(name) as fo:\n",
    "            ann = json.load(fo)\n",
    "        slab_num1 = len([shape for shape in ann['shapes'] if shape['label'] == 'slab'])\n",
    "        crack_num1 = len([shape for shape in ann['shapes'] if shape['label'] == 'crack'])\n",
    "        cor_num1 = len([shape for shape in ann['shapes'] if shape['label'] == 'cornerfracture'])\n",
    "        seam_num1 = len([shape for shape in ann['shapes'] if shape['label'] == 'seambroken'])\n",
    "        patch_num1 = len([shape for shape in ann['shapes'] if shape['label'] == 'patch'])\n",
    "        repair_num1 = len([shape for shape in ann['shapes'] if shape['label'] == 'repair'])\n",
    "        light_num1 = len([shape for shape in ann['shapes'] if shape['label'] == 'light'])\n",
    "        \n",
    "        slab_nums1 += slab_num1\n",
    "        crack_nums1 += crack_num1\n",
    "        cor_nums1 += cor_num1\n",
    "        seam_nums1 += seam_num1\n",
    "        patch_nums1 += patch_num1\n",
    "        repair_nums1 += repair_num1\n",
    "        light_nums1 += light_num1\n",
    "          \n",
    "    print(\"slab:\", slab_nums1, \"crack:\", crack_nums1, \"cor:\", cor_nums1, \"seam:\", seam_nums1, \"patch:\", patch_nums1, \n",
    "         \"repair:\" , repair_nums1, \"light:\", light_nums1)\n",
    "    print(slab_nums1+crack_nums1+cor_nums1+seam_nums1+patch_nums1+repair_nums1+light_nums1)"
   ]
  },
  {
   "cell_type": "code",
   "execution_count": 71,
   "metadata": {},
   "outputs": [
    {
     "name": "stderr",
     "output_type": "stream",
     "text": [
      "100%|████████████████████████████████████████████████████████████████████████████| 3008/3008 [00:00<00:00, 5862.23it/s]"
     ]
    },
    {
     "name": "stdout",
     "output_type": "stream",
     "text": [
      "slab: 6016 crack: 1144 cor: 0 seam: 3564 patch: 0 repair: 0 light: 37\n",
      "10761\n"
     ]
    },
    {
     "name": "stderr",
     "output_type": "stream",
     "text": [
      "\n"
     ]
    }
   ],
   "source": [
    "cal(\"D:/data/enhanced/enhanced_seam_3008/json_3008\")"
   ]
  },
  {
   "cell_type": "code",
   "execution_count": null,
   "metadata": {},
   "outputs": [],
   "source": []
  },
  {
   "cell_type": "code",
   "execution_count": null,
   "metadata": {},
   "outputs": [],
   "source": []
  }
 ],
 "metadata": {
  "kernelspec": {
   "display_name": "Python 3",
   "language": "python",
   "name": "python3"
  },
  "language_info": {
   "codemirror_mode": {
    "name": "ipython",
    "version": 3
   },
   "file_extension": ".py",
   "mimetype": "text/x-python",
   "name": "python",
   "nbconvert_exporter": "python",
   "pygments_lexer": "ipython3",
   "version": "3.8.3"
  }
 },
 "nbformat": 4,
 "nbformat_minor": 4
}
